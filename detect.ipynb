{
 "cells": [
  {
   "cell_type": "code",
   "execution_count": 2,
   "id": "9d82ea5b",
   "metadata": {},
   "outputs": [
    {
     "name": "stdout",
     "output_type": "stream",
     "text": [
      "Ultralytics YOLO is working!\n"
     ]
    }
   ],
   "source": [
    "from ultralytics import YOLO\n",
    "print(\"Ultralytics YOLO is working!\")\n"
   ]
  },
  {
   "cell_type": "code",
   "execution_count": 4,
   "id": "20aad219",
   "metadata": {},
   "outputs": [
    {
     "name": "stdout",
     "output_type": "stream",
     "text": [
      "\n",
      "image 1/1 C:\\Users\\User\\Desktop\\tea\\test.jpg: 640x480 8 diseases, 374.5ms\n",
      "Speed: 21.1ms preprocess, 374.5ms inference, 24.7ms postprocess per image at shape (1, 3, 640, 480)\n",
      "Results saved to \u001b[1mC:\\Users\\User\\Desktop\\tea\\runs\\detect\\predict3\u001b[0m\n",
      "Results saved to: C:\\Users\\User\\Desktop\\tea\\runs\\detect\\predict3\n"
     ]
    }
   ],
   "source": [
    "from ultralytics import YOLO\n",
    "\n",
    "# Load your trained model\n",
    "model = YOLO(\"best.pt\")   # make sure best.pt is in the same folder as your notebook\n",
    "\n",
    "# Test on an image\n",
    "results = model.predict(source=\"test.jpg\", save=True, conf=0.25)\n",
    "\n",
    "# Show where results are saved\n",
    "print(\"Results saved to:\", results[0].save_dir)\n"
   ]
  },
  {
   "cell_type": "code",
   "execution_count": null,
   "id": "75d0bcec-9abe-4420-b2a8-c3877d992e1e",
   "metadata": {},
   "outputs": [],
   "source": []
  }
 ],
 "metadata": {
  "kernelspec": {
   "display_name": "Python 3 (ipykernel)",
   "language": "python",
   "name": "python3"
  },
  "language_info": {
   "codemirror_mode": {
    "name": "ipython",
    "version": 3
   },
   "file_extension": ".py",
   "mimetype": "text/x-python",
   "name": "python",
   "nbconvert_exporter": "python",
   "pygments_lexer": "ipython3",
   "version": "3.10.18"
  }
 },
 "nbformat": 4,
 "nbformat_minor": 5
}
